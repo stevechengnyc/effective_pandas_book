{
  "cells": [
    {
      "cell_type": "code",
      "execution_count": 1,
      "metadata": {
        "lines_to_next_cell": 2,
        "id": "EtCnAqeWSyvt",
        "outputId": "ad8b62cd-9143-4958-e153-4a341d62d977",
        "colab": {
          "base_uri": "https://localhost:8080/",
          "height": 35
        }
      },
      "outputs": [
        {
          "output_type": "execute_result",
          "data": {
            "text/plain": [
              "'2.2.2'"
            ],
            "application/vnd.google.colaboratory.intrinsic+json": {
              "type": "string"
            }
          },
          "metadata": {},
          "execution_count": 1
        }
      ],
      "source": [
        "import pandas\n",
        "pandas.__version__"
      ]
    },
    {
      "cell_type": "code",
      "source": [
        "import pandas as pd\n",
        "pd.__version__"
      ],
      "metadata": {
        "id": "imGqdCGVS3ZN",
        "outputId": "ac8ad267-458b-4cd2-844c-aefb0455679f",
        "colab": {
          "base_uri": "https://localhost:8080/",
          "height": 35
        }
      },
      "execution_count": 2,
      "outputs": [
        {
          "output_type": "execute_result",
          "data": {
            "text/plain": [
              "'2.2.2'"
            ],
            "application/vnd.google.colaboratory.intrinsic+json": {
              "type": "string"
            }
          },
          "metadata": {},
          "execution_count": 2
        }
      ]
    },
    {
      "cell_type": "code",
      "execution_count": null,
      "metadata": {
        "lines_to_next_cell": 2,
        "id": "0hvH0GWPSyvu"
      },
      "outputs": [],
      "source": [
        "import pandas\n",
        "pandas.__version__"
      ]
    },
    {
      "cell_type": "code",
      "execution_count": null,
      "metadata": {
        "lines_to_next_cell": 2,
        "id": "Mm_sTLRnSyvu"
      },
      "outputs": [],
      "source": [
        "import pandas\n",
        "pandas.__version__"
      ]
    },
    {
      "cell_type": "markdown",
      "metadata": {
        "id": "2VQ8Hy8ISyvv"
      },
      "source": [
        "#. Install pandas on your machine (using Anaconda or pip)."
      ]
    },
    {
      "cell_type": "markdown",
      "metadata": {
        "id": "wr5UgPK4Syvw"
      },
      "source": [
        "#. Install Jupyter on your machine."
      ]
    },
    {
      "cell_type": "markdown",
      "metadata": {
        "lines_to_next_cell": 2,
        "id": "dqaSemXSSyvw"
      },
      "source": [
        "#. Launch Jupyter and run the following in a cell::"
      ]
    }
  ],
  "metadata": {
    "jupytext": {
      "cell_metadata_filter": "-all",
      "main_language": "python",
      "notebook_metadata_filter": "-all"
    },
    "kernelspec": {
      "display_name": "Python 3",
      "language": "python",
      "name": "python3"
    },
    "language_info": {
      "codemirror_mode": {
        "name": "ipython",
        "version": 3
      },
      "file_extension": ".py",
      "mimetype": "text/x-python",
      "name": "python",
      "nbconvert_exporter": "python",
      "pygments_lexer": "ipython3",
      "version": "3.8.5"
    },
    "colab": {
      "provenance": []
    }
  },
  "nbformat": 4,
  "nbformat_minor": 0
}